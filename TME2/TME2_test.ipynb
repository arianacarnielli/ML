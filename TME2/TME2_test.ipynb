{
 "cells": [
  {
   "cell_type": "code",
   "execution_count": 1,
   "metadata": {},
   "outputs": [
    {
     "name": "stdout",
     "output_type": "stream",
     "text": [
      "Liste des types de POI furniture_store, laundry, bakery, cafe, home_goods_store, clothing_store, atm, lodging, night_club, convenience_store, restaurant, bar\n"
     ]
    },
    {
     "data": {
      "text/plain": [
       "<matplotlib.collections.PathCollection at 0x1d5749b7408>"
      ]
     },
     "execution_count": 1,
     "metadata": {},
     "output_type": "execute_result"
    }
   ],
   "source": [
    "import numpy as np\n",
    "import matplotlib.pyplot as plt\n",
    "import matplotlib.image as mpimg\n",
    "import pickle\n",
    "\n",
    "\n",
    "plt.ion()\n",
    "parismap = mpimg.imread('data/paris-48.806-2.23--48.916-2.48.jpg')\n",
    "\n",
    "## coordonnees GPS de la carte\n",
    "xmin,xmax = 2.23,2.48   ## coord_x min et max\n",
    "ymin,ymax = 48.806,48.916 ## coord_y min et max\n",
    "\n",
    "def show_map():\n",
    "    plt.imshow(parismap,extent=[xmin,xmax,ymin,ymax],aspect=1.5)\n",
    "    ## extent pour controler l'echelle du plan\n",
    "\n",
    "poidata = pickle.load(open(\"data/poi-paris.pkl\",\"rb\"))\n",
    "## liste des types de point of interest (poi)\n",
    "print(\"Liste des types de POI\" , \", \".join(poidata.keys()))\n",
    "\n",
    "## Choix d'un poi\n",
    "typepoi = \"night_club\"\n",
    "\n",
    "## Creation de la matrice des coordonnees des POI\n",
    "geo_mat = np.zeros((len(poidata[typepoi]),2))\n",
    "for i,(k,v) in enumerate(poidata[typepoi].items()):\n",
    "    geo_mat[i,:]=v[0]\n",
    "\n",
    "## Affichage brut des poi\n",
    "show_map()\n",
    "## alpha permet de regler la transparence, s la taille\n",
    "plt.scatter(geo_mat[:,1],geo_mat[:,0],alpha=0.8,s=3)\n",
    "\n",
    "\n",
    "###################################################\n",
    "\n",
    "# discretisation pour l'affichage des modeles d'estimation de densite\n",
    "steps = 100\n",
    "xx,yy = np.meshgrid(np.linspace(xmin,xmax,steps),np.linspace(ymin,ymax,steps))\n",
    "grid = np.c_[xx.ravel(),yy.ravel()]\n",
    "\n",
    "# A remplacer par res = monModele.predict(grid).reshape(steps,steps)\n",
    "res = np.random.random((steps,steps))\n",
    "plt.figure()\n",
    "show_map()\n",
    "plt.imshow(res,extent=[xmin,xmax,ymin,ymax],interpolation='none',\\\n",
    "               alpha=0.3,origin = \"lower\")\n",
    "plt.colorbar()\n",
    "plt.scatter(geo_mat[:,0],geo_mat[:,1],alpha=0.3)\n",
    "\n"
   ]
  },
  {
   "cell_type": "code",
   "execution_count": 2,
   "metadata": {},
   "outputs": [],
   "source": [
    "## coordonnees GPS de la carte\n",
    "ymin,ymax = 2.23,2.48   ## coord_x min et max\n",
    "xmin,xmax = 48.806,48.916 ## coord_y min et max\n",
    "\n",
    "# Discrétisation & histogramme a la main\n",
    "\n",
    "n = 10 # nb intervalles\n",
    "inter_x = np.linspace(xmin,xmax,n+1)\n",
    "bornes_x = np.repeat(inter_x, 2)[1:-1].reshape((n,2))\n",
    "\n",
    "inter_y = np.linspace(ymin,ymax,n+1)\n",
    "bornes_y = np.repeat(inter_y, 2)[1:-1].reshape((n,2))\n",
    "\n",
    "# calcul des effectifs avec np.where\n",
    "effectifs = np.zeros((n,n))\n",
    "for i in range(len(bornes_x)):\n",
    "    for j in range(len(bornes_y)):\n",
    "        inf_x, sup_x = bornes_x[i]\n",
    "        inf_y, sup_y = bornes_y[j]\n",
    "        effectifs_x = np.where((geo_mat[:,0]>=inf_x), 1, 0) & np.where((geo_mat[:,0]<sup_x), 1, 0)\n",
    "        effectifs_y = np.where((geo_mat[:,1]>=inf_y), 1, 0) & np.where((geo_mat[:,1]<sup_y), 1, 0)\n",
    "        effectifs[i,j] += np.sum(effectifs_x & effectifs_y)\n",
    "        \n",
    "effectifs[-1,-1] += np.where((geo_mat[:,0]==xmax) & (geo_mat[:,1]==ymax) , 1, 0).sum()"
   ]
  },
  {
   "cell_type": "code",
   "execution_count": 3,
   "metadata": {},
   "outputs": [
    {
     "name": "stdout",
     "output_type": "stream",
     "text": [
      "1.0\n"
     ]
    }
   ],
   "source": [
    "h_y = (ymax - ymin)/n\n",
    "h_x = (xmax - xmin)/n\n",
    "V = h_y * h_x\n",
    "\n",
    "densite = effectifs/(V*effectifs.sum()) #densité\n",
    "\n",
    "freq = effectifs/(effectifs.sum())\n",
    "\n",
    "print(freq.sum())"
   ]
  },
  {
   "cell_type": "code",
   "execution_count": 4,
   "metadata": {},
   "outputs": [
    {
     "data": {
      "text/plain": [
       "<matplotlib.colorbar.Colorbar at 0x1d577c4ad88>"
      ]
     },
     "execution_count": 4,
     "metadata": {},
     "output_type": "execute_result"
    },
    {
     "data": {
      "image/png": "[encoded data removed]",
      "text/plain": [
       "<Figure size 432x288 with 2 Axes>"
      ]
     },
     "metadata": {
      "needs_background": "light"
     },
     "output_type": "display_data"
    }
   ],
   "source": [
    "res = effectifs\n",
    "plt.figure()\n",
    "plt.imshow(res,extent=[xmin,xmax,ymin,ymax],interpolation='none',\\\n",
    "               alpha=0.3,origin = \"lower\")\n",
    "plt.colorbar()"
   ]
  },
  {
   "cell_type": "code",
   "execution_count": null,
   "metadata": {},
   "outputs": [],
   "source": []
  }
 ],
 "metadata": {
  "kernelspec": {
   "display_name": "Python 3",
   "language": "python",
   "name": "python3"
  },
  "language_info": {
   "codemirror_mode": {
    "name": "ipython",
    "version": 3
   },
   "file_extension": ".py",
   "mimetype": "text/x-python",
   "name": "python",
   "nbconvert_exporter": "python",
   "pygments_lexer": "ipython3",
   "version": "3.7.4"
  }
 },
 "nbformat": 4,
 "nbformat_minor": 2
}
