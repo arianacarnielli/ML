{
 "cells": [
  {
   "cell_type": "code",
   "execution_count": null,
   "metadata": {},
   "outputs": [],
   "source": [
    "import numpy as np\n",
    "import matplotlib.pyplot as plt\n",
    "import matplotlib.image as mpimg\n",
    "import pickle\n",
    "\n",
    "\n",
    "plt.ion()\n",
    "parismap = mpimg.imread('data/paris-48.806-2.23--48.916-2.48.jpg')\n",
    "\n",
    "## coordonnees GPS de la carte\n",
    "xmin,xmax = 2.23,2.48   ## coord_x min et max\n",
    "ymin,ymax = 48.806,48.916 ## coord_y min et max\n",
    "\n",
    "def show_map():\n",
    "    plt.imshow(parismap,extent=[xmin,xmax,ymin,ymax],aspect=1.5)\n",
    "    ## extent pour controler l'echelle du plan\n",
    "\n",
    "poidata = pickle.load(open(\"data/poi-paris.pkl\",\"rb\"))\n",
    "## liste des types de point of interest (poi)\n",
    "print(\"Liste des types de POI\" , \", \".join(poidata.keys()))\n",
    "\n",
    "## Choix d'un poi\n",
    "typepoi = \"night_club\"\n",
    "\n",
    "## Creation de la matrice des coordonnees des POI\n",
    "geo_mat = np.zeros((len(poidata[typepoi]),2))\n",
    "for i,(k,v) in enumerate(poidata[typepoi].items()):\n",
    "    geo_mat[i,:]=v[0]\n",
    "\n",
    "## Affichage brut des poi\n",
    "show_map()\n",
    "## alpha permet de regler la transparence, s la taille\n",
    "plt.scatter(geo_mat[:,1],geo_mat[:,0],alpha=0.8,s=3)\n",
    "\n",
    "\n",
    "###################################################\n",
    "\n",
    "# discretisation pour l'affichage des modeles d'estimation de densite\n",
    "steps = 100\n",
    "xx,yy = np.meshgrid(np.linspace(xmin,xmax,steps),np.linspace(ymin,ymax,steps))\n",
    "grid = np.c_[xx.ravel(),yy.ravel()]\n",
    "\n",
    "# A remplacer par res = monModele.predict(grid).reshape(steps,steps)\n",
    "res = np.random.random((steps,steps))\n",
    "plt.figure()\n",
    "show_map()\n",
    "plt.imshow(res,extent=[xmin,xmax,ymin,ymax],interpolation='none',\\\n",
    "               alpha=0.3,origin = \"lower\")\n",
    "plt.colorbar()\n",
    "plt.scatter(geo_mat[:,0],geo_mat[:,1],alpha=0.3)\n"
   ]
  }
 ],
 "metadata": {
  "kernelspec": {
   "display_name": "Python 3",
   "language": "python",
   "name": "python3"
  },
  "language_info": {
   "codemirror_mode": {
    "name": "ipython",
    "version": 3
   },
   "file_extension": ".py",
   "mimetype": "text/x-python",
   "name": "python",
   "nbconvert_exporter": "python",
   "pygments_lexer": "ipython3",
   "version": "3.7.4"
  }
 },
 "nbformat": 4,
 "nbformat_minor": 2
}
